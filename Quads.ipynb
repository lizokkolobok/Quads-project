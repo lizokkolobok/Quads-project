{
  "cells": [
    {
      "cell_type": "markdown",
      "metadata": {
        "id": "view-in-github",
        "colab_type": "text"
      },
      "source": [
        "<a href=\"https://colab.research.google.com/github/lizokkolobok/Quads-project/blob/main/Quads.ipynb\" target=\"_parent\"><img src=\"https://colab.research.google.com/assets/colab-badge.svg\" alt=\"Open In Colab\"/></a>"
      ]
    },
    {
      "cell_type": "code",
      "execution_count": 1,
      "metadata": {
        "colab": {
          "base_uri": "https://localhost:8080/"
        },
        "id": "pw56RPd8YrX6",
        "outputId": "8eb27578-63dd-4051-89b7-cbb61d361543"
      },
      "outputs": [
        {
          "output_type": "stream",
          "name": "stdout",
          "text": [
            "Collecting pulp\n",
            "  Downloading PuLP-2.8.0-py3-none-any.whl (17.7 MB)\n",
            "\u001b[2K     \u001b[90m━━━━━━━━━━━━━━━━━━━━━━━━━━━━━━━━━━━━━━━━\u001b[0m \u001b[32m17.7/17.7 MB\u001b[0m \u001b[31m39.8 MB/s\u001b[0m eta \u001b[36m0:00:00\u001b[0m\n",
            "\u001b[?25hInstalling collected packages: pulp\n",
            "Successfully installed pulp-2.8.0\n"
          ]
        }
      ],
      "source": [
        "!pip install pulp"
      ]
    },
    {
      "cell_type": "markdown",
      "metadata": {
        "id": "i4NGc0SzY4O9"
      },
      "source": [
        "# **Импорты, вводные**"
      ]
    },
    {
      "cell_type": "code",
      "execution_count": 2,
      "metadata": {
        "id": "NvZqcAcOYH_t"
      },
      "outputs": [],
      "source": [
        "import matplotlib.pyplot as plt\n",
        "import numpy as np\n",
        "from pulp import *"
      ]
    },
    {
      "cell_type": "markdown",
      "metadata": {
        "id": "ZVXLHKPDZEUx"
      },
      "source": [
        "# **Квадраты**"
      ]
    },
    {
      "cell_type": "code",
      "execution_count": 3,
      "metadata": {
        "id": "mMM_0PpFZs2l"
      },
      "outputs": [],
      "source": [
        "class Rectangle:\n",
        "  def __init__(self, x0, y0, w, h):\n",
        "    self.w, self.h = w, h\n",
        "    self.x0, self.y0 = x0, y0\n",
        "\n",
        "  def S(self):\n",
        "    return self.w * self.h\n",
        "\n",
        "  def draw(self, ax, label=\"\"):\n",
        "    ax.plot([self.x0, self.x0 + self.w, self.x0 + self.w, self.x0, self.x0],\n",
        "            [self.y0, self.y0, self.y0 + self.h, self.y0 + self.h, self.y0],\n",
        "            label=label)\n",
        "\n",
        "  def get_ratio(self):\n",
        "    w, h = self.w, self.h\n",
        "    while True:\n",
        "      m = int(min(w, h))\n",
        "      no_delim_found = True\n",
        "      for d in [2] + list(range(3, m + 1, 2)):\n",
        "        if w % d == 0 and h % d == 0:\n",
        "          w /= d\n",
        "          h /= d\n",
        "          no_delim_found = False\n",
        "          break\n",
        "      if no_delim_found:\n",
        "          break\n",
        "    return (int(w), int(h))\n",
        "\n",
        "class Square(Rectangle):\n",
        "  def __init__(self, x0, y0, a):\n",
        "    super().__init__(x0, y0, a, a)\n",
        "    self.a = self.w\n",
        "\n",
        "  def split(self, tgt_num):\n",
        "    if tgt_num == 1:\n",
        "      return [self] # [Square(self.x0, self.y0, self.a)]\n",
        "    if tgt_num in [2, 3, 5]:\n",
        "      raise ValueError(\"No way!\")\n",
        "    if tgt_num == 4:\n",
        "      return self._split_in_4()\n",
        "    elif tgt_num == 6:\n",
        "      return self._split_in_6()\n",
        "    elif tgt_num == 8:\n",
        "      return self._split_in_8()\n",
        "    else:\n",
        "      raise ValueError(\"Too complex tgt_num! Reduce to 4, 6 or 8!\")\n",
        "\n",
        "  def _split_in_4(self):\n",
        "      return self._split_w_1big(4)\n",
        "\n",
        "  def _split_w_1big(self, n):\n",
        "      if n % 2 != 0:\n",
        "        raise ValueError(\"n must be even!\")\n",
        "      k = n // 2\n",
        "      subs = []\n",
        "      b_x_corner, b_y_corner = np.random.randint(0,2,2)\n",
        "      subs += [Square(self.x0 + b_x_corner * (self.a / k),\n",
        "                      self.y0 + b_y_corner * (self.a / k),\n",
        "                      self.a * (k - 1) / k)]\n",
        "      subs += [Square(self.x0 + i * (self.a / k),\n",
        "                      (self.a * (k - 1) / k) * (1 - b_y_corner),\n",
        "                      self.a / k )\n",
        "              for i in range(k)]\n",
        "      subs += [Square((self.a * (k - 1) / k) * (1 - b_x_corner),\n",
        "                      self.y0 + i * (self.a / k) + b_y_corner * (self.a / k),\n",
        "                      self.a / k )\n",
        "              for i in range(k - 1)]\n",
        "      return subs\n",
        "\n",
        "  def _split_in_6(self):\n",
        "      return self._split_w_1big(6)\n",
        "\n",
        "  def _split_in_8(self):\n",
        "      return self._split_w_1big(8)"
      ]
    },
    {
      "cell_type": "markdown",
      "metadata": {
        "id": "eAHhFTR0clxC"
      },
      "source": [
        "# **Проверка кода разделения квадрата на квадраты**"
      ]
    },
    {
      "cell_type": "code",
      "execution_count": 4,
      "metadata": {
        "colab": {
          "base_uri": "https://localhost:8080/",
          "height": 268
        },
        "id": "yY0w1uFrcoWG",
        "outputId": "ec3fb57a-1ee3-42ad-caf3-5ab9e71e31e1"
      },
      "outputs": [
        {
          "output_type": "display_data",
          "data": {
            "text/plain": [
              "<Figure size 1000x300 with 4 Axes>"
            ],
            "image/png": "[encoded data removed]"
          },
          "metadata": {}
        }
      ],
      "source": [
        "_, axs = plt.subplots(1, 4, figsize=(10, 3))\n",
        "\n",
        "qq = Square(0,0, 10)\n",
        "\n",
        "qq.draw(axs[0])\n",
        "axs[0].axis(\"equal\")\n",
        "axs[0].axis(\"off\")\n",
        "\n",
        "for i, n in enumerate([4,6,8]):\n",
        "  for j, sub in enumerate(qq.split(n)):\n",
        "        sub.draw(axs[1 + i])\n",
        "        axs[1 + i].set_xlim(0,10)\n",
        "        axs[1 + i].set_ylim(0,10)\n",
        "        axs[1 + i].axis(\"equal\")\n",
        "        axs[1 + i].axis(\"off\")\n",
        "plt.show()"
      ]
    },
    {
      "cell_type": "markdown",
      "metadata": {
        "id": "wqnL34u-fqnM"
      },
      "source": [
        "# **Жадный алгоритм для заполнения прямоугольного поля квадратами**"
      ]
    },
    {
      "cell_type": "code",
      "execution_count": 5,
      "metadata": {
        "id": "ahIf4h1ofwIf"
      },
      "outputs": [],
      "source": [
        "def fill_field_with_squares(W, H, verbose=False):\n",
        "    ratio = Rectangle(0,0,W,H).get_ratio()\n",
        "    rect = Rectangle(0,0,*ratio)\n",
        "\n",
        "    w, h = rect.w, rect.h\n",
        "    x0, y0 = rect.x0, rect.y0\n",
        "    rects = []\n",
        "    while w != h:\n",
        "        a = min(w, h)\n",
        "        rects += [Square(x0, y0, a)]\n",
        "        if verbose:\n",
        "            print(f\"added rect ({x0},{y0}) {a}x{a}\")\n",
        "\n",
        "        x0, y0 = x0 + (a == h) * a, y0 + (a == w) * a\n",
        "        w, h = w - (a == h) * a, h - (a == w) * a\n",
        "        # h -= (a == w) * a\n",
        "        if verbose:\n",
        "            print(f\"\\tnew vals: x0 = {x0}, y0 = {y0}, w = {w}, h = {h}\")\n",
        "\n",
        "    rects += [Square(x0, y0, w)]\n",
        "\n",
        "    out = {\"field\": {\"w\": W, \"H\": H},\n",
        "           \"ratio\": ratio,\n",
        "           \"rects\": rects}\n",
        "\n",
        "    return out"
      ]
    },
    {
      "cell_type": "code",
      "execution_count": 6,
      "metadata": {
        "colab": {
          "base_uri": "https://localhost:8080/",
          "height": 476
        },
        "id": "Qj1EO34ioI2j",
        "outputId": "0d752b26-5153-4422-a6f0-bd982f224a92"
      },
      "outputs": [
        {
          "output_type": "display_data",
          "data": {
            "text/plain": [
              "<Figure size 800x500 with 1 Axes>"
            ],
            "image/png": "[encoded data removed]"
          },
          "metadata": {}
        }
      ],
      "source": [
        "filling = fill_field_with_squares(2560, 1600)\n",
        "\n",
        "fig, ax = plt.subplots(1,1,figsize=filling[\"ratio\"])\n",
        "plt.axis(\"equal\")\n",
        "\n",
        "for i, rect in enumerate(filling[\"rects\"]):\n",
        "  rect.draw(ax, label=f\"rect {i}: {rect.w}x{rect.h}\")\n",
        "\n",
        "plt.title(f\"Field {filling['field']['w']}x{filling['field']['H']} (ratio {filling['ratio']})\", fontsize=20)\n",
        "plt.xticks(np.arange(0, filling[\"ratio\"][0] + 1))\n",
        "plt.yticks(np.arange(0, filling[\"ratio\"][1] + 1))\n",
        "plt.legend(prop={\"size\":14})\n",
        "plt.show()"
      ]
    },
    {
      "cell_type": "markdown",
      "metadata": {
        "id": "ckwn1B9-oxqI"
      },
      "source": [
        "# **Размещение фото в квадратах**"
      ]
    },
    {
      "cell_type": "markdown",
      "metadata": {
        "id": "eGqr4pPUo0cx"
      },
      "source": [
        "# **Постановка задачи**"
      ]
    },
    {
      "cell_type": "markdown",
      "metadata": {
        "id": "Q4lmlQZWo3d7"
      },
      "source": [
        "\n"
      ]
    },
    {
      "cell_type": "code",
      "execution_count": 7,
      "metadata": {
        "id": "byfNokiqotLt"
      },
      "outputs": [],
      "source": [
        "def make_problem(n_likes, sq_squares):\n",
        "    problem = LpProblem(\"collage\", LpMinimize)\n",
        "    M = 1e5\n",
        "\n",
        "    # Нормируем число лайков на фото\n",
        "    n_likes = np.array(n_likes) / sum(n_likes)\n",
        "    # Нормируем размеры квадратов\n",
        "    sq_squares = np.array(sq_squares) / sum(sq_squares)\n",
        "\n",
        "    # x_ij = {1, фото i лежит в квадрате j; 0, иначе}\n",
        "    xs = LpVariable.dicts(\"x\",\n",
        "                          ((i, j) for i in range(len(n_likes)) for j in range(len(sq_squares))),\n",
        "                          cat=\"Binary\")\n",
        "    d1 = LpVariable.dicts(\"d1\",\n",
        "                          (j for j in range(len(sq_squares))),\n",
        "                          cat=\"Continuous\")\n",
        "    d2 = LpVariable.dicts(\"d2\",\n",
        "                          (j for j in range(len(sq_squares))),\n",
        "                          cat=\"Continuous\")\n",
        "    d = LpVariable.dicts(\"d\",\n",
        "                         (j for j in range(len(sq_squares))),\n",
        "                         cat=\"Continuous\")\n",
        "    # s_j - Суммарное число \"лайков\" в квадрате j\n",
        "    s = LpVariable.dicts(\"s\",\n",
        "                         (j for j in range(len(sq_squares))),\n",
        "                         lowBound=0,\n",
        "                         cat=\"Continuous\")\n",
        "    q = LpVariable.dicts(\"q\",\n",
        "                         ((j, k) for j in range(len(sq_squares)) for k in range(2)),\n",
        "                         cat=\"Binary\")\n",
        "\n",
        "    # Каждое фото должно быть размещено ровно в одном квадрате\n",
        "    for i in range(len(n_likes)):\n",
        "        problem += lpSum([xs[(i,j)] for j in range(len(sq_squares))]) == 1\n",
        "\n",
        "    for j in range(len(sq_squares)):\n",
        "        # s_j = \\sum_i{x_{i,j} \\cdot likes[i]}\n",
        "        problem += lpSum([xs[(i,j)] * n_likes[i] for i in range(len(n_likes))]) == s[j]\n",
        "\n",
        "        # В каждом квадрате должно быть по крайней мере одно фото\n",
        "        problem += lpSum([xs[(i,j)] for i in range(len(n_likes))]) >= 1\n",
        "\n",
        "        # Ограничения для числа фото в квадрате (см. объяснение выше)\n",
        "        problem += q[(j, 1)] <= q[(j, 0)]\n",
        "        problem += lpSum([xs[(i,j)] for i in range(len(n_likes))]) >= 1 + 3 * q[(j, 0)] + 2 * q[(j, 1)]\n",
        "        problem += lpSum([xs[(i,j)] for i in range(len(n_likes))]) <= 1 + 3 * q[(j, 0)] + 2 * q[(j, 1)] + M * q[(j, 1)]\n",
        "\n",
        "        # Для целевой функции (см. объяснение выше)\n",
        "        problem += sq_squares[j] - s[j] == d1[j]\n",
        "        problem += s[j] - sq_squares[j] == d2[j]\n",
        "        problem += d[j] >= d1[j]\n",
        "        problem += d[j] >= d2[j]\n",
        "\n",
        "    problem += lpSum([d[j] for j in range(len(sq_squares))])\n",
        "\n",
        "    return problem"
      ]
    },
    {
      "cell_type": "code",
      "execution_count": 14,
      "metadata": {
        "id": "29-CuB4Qq2b3"
      },
      "outputs": [],
      "source": [
        "# Зададим случайное число лайков на фото\n",
        "ph_likes = np.random.randint(1, 100, 20)\n",
        "# Будем использовать квадраты из сгенерированного выше заполнения поля\n",
        "squares = [rect.S() for rect in filling[\"rects\"]]"
      ]
    },
    {
      "cell_type": "code",
      "execution_count": 15,
      "metadata": {
        "id": "DIWcd8Prq3vk"
      },
      "outputs": [],
      "source": [
        "prob = make_problem(ph_likes, squares)"
      ]
    },
    {
      "cell_type": "code",
      "execution_count": 16,
      "metadata": {
        "colab": {
          "base_uri": "https://localhost:8080/"
        },
        "id": "nfNFoFeSq8JC",
        "outputId": "6fdbeb35-7141-473f-9b0b-50941a06a540"
      },
      "outputs": [
        {
          "output_type": "execute_result",
          "data": {
            "text/plain": [
              "1"
            ]
          },
          "metadata": {},
          "execution_count": 16
        }
      ],
      "source": [
        "prob.solve()"
      ]
    },
    {
      "cell_type": "code",
      "execution_count": 17,
      "metadata": {
        "colab": {
          "base_uri": "https://localhost:8080/",
          "height": 35
        },
        "id": "tku-7LFNq-G7",
        "outputId": "64dc6bf2-290d-4499-969f-f6a65027dfb3"
      },
      "outputs": [
        {
          "output_type": "execute_result",
          "data": {
            "text/plain": [
              "'Optimal'"
            ],
            "application/vnd.google.colaboratory.intrinsic+json": {
              "type": "string"
            }
          },
          "metadata": {},
          "execution_count": 17
        }
      ],
      "source": [
        "LpStatus[prob.status]"
      ]
    },
    {
      "cell_type": "code",
      "execution_count": 18,
      "metadata": {
        "colab": {
          "base_uri": "https://localhost:8080/"
        },
        "id": "k8BdvVp6rbpI",
        "outputId": "193a920f-5e7c-4ea4-c94d-5919eff5f349"
      },
      "outputs": [
        {
          "output_type": "stream",
          "name": "stdout",
          "text": [
            "Значение целевой функции: 0.00866728801\n"
          ]
        }
      ],
      "source": [
        "print(\"Значение целевой функции:\", prob.objective.value())"
      ]
    },
    {
      "cell_type": "code",
      "execution_count": 19,
      "metadata": {
        "id": "QPOhQ-Ldrh9q"
      },
      "outputs": [],
      "source": [
        "deploy = np.array([[prob.variablesDict()[f\"x_({i},_{j})\"].value()\n",
        "                  for j in range(len(squares))]\n",
        "                  for i in range(len(ph_likes))]).astype(int)"
      ]
    },
    {
      "cell_type": "code",
      "execution_count": 20,
      "metadata": {
        "colab": {
          "base_uri": "https://localhost:8080/"
        },
        "id": "zTbzkYRrr0pn",
        "outputId": "7f663fd9-df13-4c0b-e2f9-1a5688a7c887"
      },
      "outputs": [
        {
          "output_type": "stream",
          "name": "stdout",
          "text": [
            "Число фото в квадратах: 9 5 2 3 1\n"
          ]
        }
      ],
      "source": [
        "print(\"Число фото в квадратах:\", *deploy.sum(axis=0))"
      ]
    },
    {
      "cell_type": "code",
      "execution_count": 21,
      "metadata": {
        "colab": {
          "base_uri": "https://localhost:8080/",
          "height": 451
        },
        "id": "Ji6FKNFzDdzO",
        "outputId": "9ee9c140-92ea-4dfc-edf6-924e817ea756"
      },
      "outputs": [
        {
          "output_type": "display_data",
          "data": {
            "text/plain": [
              "<Figure size 500x500 with 1 Axes>"
            ],
            "image/png": "[encoded data removed]"
          },
          "metadata": {}
        }
      ],
      "source": [
        "_, ax = plt.subplots(1,1,figsize=(5,5))\n",
        "\n",
        "mod_ph_likes = ph_likes / sum(ph_likes)\n",
        "plt_xs = [deploy[:,j] @ mod_ph_likes for j in range(len(squares))]\n",
        "\n",
        "plt_ys = np.array(squares) / sum(squares)\n",
        "\n",
        "ax.scatter(plt_xs, plt_ys)\n",
        "ax.plot([0,0],[1,1])\n",
        "\n",
        "plt.axis(\"equal\")\n",
        "plt.xlim(0,1)\n",
        "plt.ylim(0,1)\n",
        "plt.show()"
      ]
    },
    {
      "cell_type": "code",
      "source": [
        "filling = fill_field_with_squares(2560, 1600)\n",
        "\n",
        "fig, ax = plt.subplots(1, 1, figsize=filling[\"ratio\"])\n",
        "plt.axis(\"equal\")\n",
        "for i, rect in enumerate(filling[\"rects\"]):\n",
        "    rect.draw(ax, label=f\"rect {i}: {rect.w}x{rect.h}\")\n",
        "\n",
        "plt.title(f\"Field {filling['field']['w']}x{filling['field']['H']} (ratio {filling['ratio']})\", fontsize=20)\n",
        "plt.xticks(np.arange(0, filling[\"ratio\"][0] + 1))\n",
        "plt.yticks(np.arange(0, filling[\"ratio\"][1] + 1))\n",
        "plt.legend(prop={\"size\": 14})\n",
        "plt.show()"
      ],
      "metadata": {
        "colab": {
          "base_uri": "https://localhost:8080/",
          "height": 476
        },
        "id": "FOUrxffb8vHi",
        "outputId": "4c18650f-51bc-4af1-d78e-1b167943d4da"
      },
      "execution_count": 16,
      "outputs": [
        {
          "output_type": "display_data",
          "data": {
            "text/plain": [
              "<Figure size 800x500 with 1 Axes>"
            ],
            "image/png": "[encoded data removed]"
          },
          "metadata": {}
        }
      ]
    },
    {
      "cell_type": "code",
      "source": [
        "def pulp_to_deploy(var_dict, n_photos, n_squares):\n",
        "    deploy = np.array([[prob.variablesDict()[f\"x_({i},{j})\"].value\n",
        "                       for j in range(n_squares)]\n",
        "                       for i in range(n_photos)]).astype(int)\n",
        "    return deploy"
      ],
      "metadata": {
        "id": "HELNnZ9_9Dc9"
      },
      "execution_count": 17,
      "outputs": []
    },
    {
      "cell_type": "code",
      "source": [
        "# Зададим случайное число лайков на фото\n",
        "ph_likes = np.random.randint(1, 100, 25)\n",
        "# Будем использовать квадраты из сгенерированного выше заполнения поля\n",
        "quads = filling[\"rects\"]\n",
        "quad_squares = [rect.S() for rect in quads]"
      ],
      "metadata": {
        "id": "MEKGcLTY9M1t"
      },
      "execution_count": 18,
      "outputs": []
    },
    {
      "cell_type": "code",
      "source": [
        "#prob = make_problem(ph_likes, quad_squares)\n",
        "#prob.solve()\n",
        "#init_deploy = pulp_to_deploy(prob.variablesDict(), len(ph_likes), len(quads))\n",
        "\n",
        "#q_ph_inds = [np.where(init_deploy[:, i] == 1)[0] for i in range(len(quads))]"
      ],
      "metadata": {
        "colab": {
          "base_uri": "https://localhost:8080/",
          "height": 356
        },
        "id": "M97aYip09W0N",
        "outputId": "4dea0f1b-9df7-467b-95e6-29ea309f1dc8"
      },
      "execution_count": 19,
      "outputs": [
        {
          "output_type": "error",
          "ename": "KeyError",
          "evalue": "'x_(0,0)'",
          "traceback": [
            "\u001b[0;31m---------------------------------------------------------------------------\u001b[0m",
            "\u001b[0;31mKeyError\u001b[0m                                  Traceback (most recent call last)",
            "\u001b[0;32m<ipython-input-19-3f219cf0fcb1>\u001b[0m in \u001b[0;36m<cell line: 3>\u001b[0;34m()\u001b[0m\n\u001b[1;32m      1\u001b[0m \u001b[0mprob\u001b[0m \u001b[0;34m=\u001b[0m \u001b[0mmake_problem\u001b[0m\u001b[0;34m(\u001b[0m\u001b[0mph_likes\u001b[0m\u001b[0;34m,\u001b[0m \u001b[0mquad_squares\u001b[0m\u001b[0;34m)\u001b[0m\u001b[0;34m\u001b[0m\u001b[0;34m\u001b[0m\u001b[0m\n\u001b[1;32m      2\u001b[0m \u001b[0mprob\u001b[0m\u001b[0;34m.\u001b[0m\u001b[0msolve\u001b[0m\u001b[0;34m(\u001b[0m\u001b[0;34m)\u001b[0m\u001b[0;34m\u001b[0m\u001b[0;34m\u001b[0m\u001b[0m\n\u001b[0;32m----> 3\u001b[0;31m \u001b[0minit_deploy\u001b[0m \u001b[0;34m=\u001b[0m \u001b[0mpulp_to_deploy\u001b[0m\u001b[0;34m(\u001b[0m\u001b[0mprob\u001b[0m\u001b[0;34m.\u001b[0m\u001b[0mvariablesDict\u001b[0m\u001b[0;34m(\u001b[0m\u001b[0;34m)\u001b[0m\u001b[0;34m,\u001b[0m \u001b[0mlen\u001b[0m\u001b[0;34m(\u001b[0m\u001b[0mph_likes\u001b[0m\u001b[0;34m)\u001b[0m\u001b[0;34m,\u001b[0m \u001b[0mlen\u001b[0m\u001b[0;34m(\u001b[0m\u001b[0mquads\u001b[0m\u001b[0;34m)\u001b[0m\u001b[0;34m)\u001b[0m\u001b[0;34m\u001b[0m\u001b[0;34m\u001b[0m\u001b[0m\n\u001b[0m\u001b[1;32m      4\u001b[0m \u001b[0;34m\u001b[0m\u001b[0m\n\u001b[1;32m      5\u001b[0m \u001b[0mq_ph_inds\u001b[0m \u001b[0;34m=\u001b[0m \u001b[0;34m[\u001b[0m\u001b[0mnp\u001b[0m\u001b[0;34m.\u001b[0m\u001b[0mwhere\u001b[0m\u001b[0;34m(\u001b[0m\u001b[0minit_deploy\u001b[0m\u001b[0;34m[\u001b[0m\u001b[0;34m:\u001b[0m\u001b[0;34m,\u001b[0m \u001b[0mi\u001b[0m\u001b[0;34m]\u001b[0m \u001b[0;34m==\u001b[0m \u001b[0;36m1\u001b[0m\u001b[0;34m)\u001b[0m\u001b[0;34m[\u001b[0m\u001b[0;36m0\u001b[0m\u001b[0;34m]\u001b[0m \u001b[0;32mfor\u001b[0m \u001b[0mi\u001b[0m \u001b[0;32min\u001b[0m \u001b[0mrange\u001b[0m\u001b[0;34m(\u001b[0m\u001b[0mlen\u001b[0m\u001b[0;34m(\u001b[0m\u001b[0mquads\u001b[0m\u001b[0;34m)\u001b[0m\u001b[0;34m)\u001b[0m\u001b[0;34m]\u001b[0m\u001b[0;34m\u001b[0m\u001b[0;34m\u001b[0m\u001b[0m\n",
            "\u001b[0;32m<ipython-input-17-57fe73f4d43f>\u001b[0m in \u001b[0;36mpulp_to_deploy\u001b[0;34m(var_dict, n_photos, n_squares)\u001b[0m\n\u001b[1;32m      1\u001b[0m \u001b[0;32mdef\u001b[0m \u001b[0mpulp_to_deploy\u001b[0m\u001b[0;34m(\u001b[0m\u001b[0mvar_dict\u001b[0m\u001b[0;34m,\u001b[0m \u001b[0mn_photos\u001b[0m\u001b[0;34m,\u001b[0m \u001b[0mn_squares\u001b[0m\u001b[0;34m)\u001b[0m\u001b[0;34m:\u001b[0m\u001b[0;34m\u001b[0m\u001b[0;34m\u001b[0m\u001b[0m\n\u001b[0;32m----> 2\u001b[0;31m     deploy = np.array([[prob.variablesDict()[f\"x_({i},{j})\"].value\n\u001b[0m\u001b[1;32m      3\u001b[0m                        for j in range(n_squares)]\n\u001b[1;32m      4\u001b[0m                        for i in range(n_photos)]).astype(int)\n\u001b[1;32m      5\u001b[0m     \u001b[0;32mreturn\u001b[0m \u001b[0mdeploy\u001b[0m\u001b[0;34m\u001b[0m\u001b[0;34m\u001b[0m\u001b[0m\n",
            "\u001b[0;32m<ipython-input-17-57fe73f4d43f>\u001b[0m in \u001b[0;36m<listcomp>\u001b[0;34m(.0)\u001b[0m\n\u001b[1;32m      1\u001b[0m \u001b[0;32mdef\u001b[0m \u001b[0mpulp_to_deploy\u001b[0m\u001b[0;34m(\u001b[0m\u001b[0mvar_dict\u001b[0m\u001b[0;34m,\u001b[0m \u001b[0mn_photos\u001b[0m\u001b[0;34m,\u001b[0m \u001b[0mn_squares\u001b[0m\u001b[0;34m)\u001b[0m\u001b[0;34m:\u001b[0m\u001b[0;34m\u001b[0m\u001b[0;34m\u001b[0m\u001b[0m\n\u001b[0;32m----> 2\u001b[0;31m     deploy = np.array([[prob.variablesDict()[f\"x_({i},{j})\"].value\n\u001b[0m\u001b[1;32m      3\u001b[0m                        for j in range(n_squares)]\n\u001b[1;32m      4\u001b[0m                        for i in range(n_photos)]).astype(int)\n\u001b[1;32m      5\u001b[0m     \u001b[0;32mreturn\u001b[0m \u001b[0mdeploy\u001b[0m\u001b[0;34m\u001b[0m\u001b[0;34m\u001b[0m\u001b[0m\n",
            "\u001b[0;32m<ipython-input-17-57fe73f4d43f>\u001b[0m in \u001b[0;36m<listcomp>\u001b[0;34m(.0)\u001b[0m\n\u001b[1;32m      1\u001b[0m \u001b[0;32mdef\u001b[0m \u001b[0mpulp_to_deploy\u001b[0m\u001b[0;34m(\u001b[0m\u001b[0mvar_dict\u001b[0m\u001b[0;34m,\u001b[0m \u001b[0mn_photos\u001b[0m\u001b[0;34m,\u001b[0m \u001b[0mn_squares\u001b[0m\u001b[0;34m)\u001b[0m\u001b[0;34m:\u001b[0m\u001b[0;34m\u001b[0m\u001b[0;34m\u001b[0m\u001b[0m\n\u001b[0;32m----> 2\u001b[0;31m     deploy = np.array([[prob.variablesDict()[f\"x_({i},{j})\"].value\n\u001b[0m\u001b[1;32m      3\u001b[0m                        for j in range(n_squares)]\n\u001b[1;32m      4\u001b[0m                        for i in range(n_photos)]).astype(int)\n\u001b[1;32m      5\u001b[0m     \u001b[0;32mreturn\u001b[0m \u001b[0mdeploy\u001b[0m\u001b[0;34m\u001b[0m\u001b[0;34m\u001b[0m\u001b[0m\n",
            "\u001b[0;31mKeyError\u001b[0m: 'x_(0,0)'"
          ]
        }
      ]
    },
    {
      "cell_type": "code",
      "source": [
        "import random\n",
        "import numpy as np\n",
        "from pulp import *\n",
        "import matplotlib.pyplot as plt"
      ],
      "metadata": {
        "id": "X63arUo_S47c"
      },
      "execution_count": 7,
      "outputs": []
    },
    {
      "cell_type": "code",
      "source": [
        "def split_options(n):\n",
        "    if n == 1:\n",
        "        return [{1: 1}]\n",
        "    if n < 0 or n in [2, 3, 5]:\n",
        "        return []\n",
        "    if n == 4: return [{1/2: 4}]\n",
        "    if n == 6: return [{2/3: 1, 1/3: 5}]\n",
        "    if n == 8: return [{3/4: 1, 1/4: 7}]\n",
        "\n",
        "    out_opts = []\n",
        "    for k in (3, 5, 7):\n",
        "        for opt in split_options(n - k):\n",
        "            for quad_type in opt:\n",
        "                new_opt = dict(opt)\n",
        "                if opt[quad_type] == 1:\n",
        "                    del new_opt[quad_type]\n",
        "                else:\n",
        "                    new_opt[quad_type] -= 1\n",
        "                if k == 3:\n",
        "                    new_opt[quad_type / 2] = new_opt.get(quad_type / 2, 0) + 4\n",
        "                elif k == 5:\n",
        "                    new_opt[quad_type * 2/3] = new_opt.get(quad_type * 2/3, 0) + 1\n",
        "                    new_opt[quad_type * 1/3] = new_opt.get(quad_type * 1/3, 0) + 5\n",
        "                else:\n",
        "                    new_opt[quad_type * 3/4] = new_opt.get(quad_type * 3/4, 0) + 1\n",
        "                    new_opt[quad_type * 1/4] = new_opt.get(quad_type * 1/4, 0) + 7\n",
        "\n",
        "                out_opts.append(new_opt)\n",
        "                print(f\"Generated option for k={k}, n={n}: {new_opt}\")\n",
        "    return out_opts\n",
        "\n",
        "def main():\n",
        "    n = 10\n",
        "    ways = split_options(n)\n",
        "    print(f\"All ways to divide a square into {n} smaller squares:\")\n",
        "    for way in ways:\n",
        "        print(way)\n",
        "\n",
        "if __name__ == \"__main__\":\n",
        "    main()"
      ],
      "metadata": {
        "colab": {
          "base_uri": "https://localhost:8080/"
        },
        "id": "tL_YEMj_GRRT",
        "outputId": "3106d2aa-180b-480d-afb9-661bdf0eebab"
      },
      "execution_count": 8,
      "outputs": [
        {
          "output_type": "stream",
          "name": "stdout",
          "text": [
            "Generated option for k=3, n=7: {0.5: 3, 0.25: 4}\n",
            "Generated option for k=3, n=10: {0.5: 2, 0.25: 8}\n",
            "Generated option for k=3, n=10: {0.5: 3, 0.25: 3, 0.125: 4}\n",
            "All ways to divide a square into 10 smaller squares:\n",
            "{0.5: 2, 0.25: 8}\n",
            "{0.5: 3, 0.25: 3, 0.125: 4}\n"
          ]
        }
      ]
    },
    {
      "cell_type": "code",
      "source": [
        "import numpy as np\n",
        "import matplotlib.pyplot as plt\n",
        "from pulp import LpProblem, LpMinimize, LpVariable, lpSum, LpStatus"
      ],
      "metadata": {
        "id": "5TgfPArG6EKN"
      },
      "execution_count": 9,
      "outputs": []
    },
    {
      "cell_type": "code",
      "source": [
        "class Square:\n",
        "    def __init__(self, x0, y0, a):\n",
        "        self.x0 = x0\n",
        "        self.y0 = y0\n",
        "        self.a = a\n",
        "\n",
        "    def split(self, tgt_num):\n",
        "        if tgt_num == 1:\n",
        "            return [self]\n",
        "        if tgt_num == 4:\n",
        "            return self._split_in_4()\n",
        "        elif tgt_num == 6:\n",
        "            return self._split_in_6()\n",
        "        elif tgt_num == 8:\n",
        "            return self._split_in_8()\n",
        "        else:\n",
        "            raise ValueError(\"Too complex tgt_num! Reduce to 4, 6, or 8!\")\n",
        "\n",
        "    def _split_w_1big(self, n):\n",
        "        if n % 2 != 0:\n",
        "            raise ValueError(\"n must be even!\")\n",
        "        k = n // 2\n",
        "        subs = []\n",
        "        b_x_corner, b_y_corner = np.random.randint(0, 2, 2)\n",
        "        subs.append(Square(self.x0 + b_x_corner * (self.a / k),\n",
        "                           self.y0 + b_y_corner * (self.a / k),\n",
        "                           self.a * (k - 1) / k))\n",
        "        subs.extend([Square(self.x0 + i * (self.a / k),\n",
        "                            self.y0 + (self.a * (k - 1) / k) * (1 - b_y_corner),\n",
        "                            self.a / k) for i in range(k)])\n",
        "        subs.extend([Square(self.x0 + (self.a * (k - 1) / k) * (1 - b_x_corner),\n",
        "                            self.y0 + i * (self.a / k) + b_y_corner * (self.a / k),\n",
        "                            self.a / k) for i in range(k - 1)])\n",
        "\n",
        "        return subs\n",
        "\n",
        "    def _split_in_4(self):\n",
        "        return self._split_w_1big(4)\n",
        "\n",
        "    def _split_in_6(self):\n",
        "        return self._split_w_1big(6)\n",
        "\n",
        "    def _split_in_8(self):\n",
        "        return self._split_w_1big(8)"
      ],
      "metadata": {
        "id": "CM1n38az8Cy0"
      },
      "execution_count": 10,
      "outputs": []
    },
    {
      "cell_type": "code",
      "source": [
        "def split_options(n):\n",
        "    if n == 1:\n",
        "        return [{1: 1}]\n",
        "    if n < 0 or n in [2, 3, 5]:\n",
        "        return []\n",
        "    if n == 4:\n",
        "        return [{1/2: 4}]\n",
        "    if n == 6:\n",
        "        return [{2/3: 1, 1/3: 5}]\n",
        "    if n == 8:\n",
        "        return [{3/4: 1, 1/4: 7}]\n",
        "\n",
        "    out_opts = []\n",
        "    for k in (3, 5, 7):\n",
        "        for opt in split_options(n - k):\n",
        "            for quad_type in list(opt.keys()):\n",
        "                new_opt = dict(opt)\n",
        "                if new_opt[quad_type] == 1:\n",
        "                    del new_opt[quad_type]\n",
        "                else:\n",
        "                    new_opt[quad_type] -= 1\n",
        "                if k == 3:\n",
        "                    new_opt[quad_type / 2] = new_opt.get(quad_type / 2, 0) + 4\n",
        "                elif k == 5:\n",
        "                    new_opt[quad_type * 2/3] = new_opt.get(quad_type * 2/3, 0) + 1\n",
        "                    new_opt[quad_type * 1/3] = new_opt.get(quad_type * 1/3, 0) + 5\n",
        "                else:\n",
        "                    new_opt[quad_type * 3/4] = new_opt.get(quad_type * 3/4, 0) + 1\n",
        "                    new_opt[quad_type * 1/4] = new_opt.get(quad_type * 1/4, 0) + 7\n",
        "\n",
        "                out_opts.append(new_opt)\n",
        "    return out_opts\n"
      ],
      "metadata": {
        "id": "m1sOabt3MjJ8"
      },
      "execution_count": 11,
      "outputs": []
    },
    {
      "cell_type": "code",
      "source": [
        "def make_problem(n_likes, sq_squares):\n",
        "    problem = LpProblem(\"collage\", LpMinimize)\n",
        "    M = 1e5\n",
        "\n",
        "    n_likes = np.array(n_likes) / sum(n_likes)\n",
        "    sq_squares = np.array(sq_squares) / sum(sq_squares)\n",
        "\n",
        "    xs = LpVariable.dicts(\"x\",\n",
        "                          ((i, j) for i in range(len(n_likes)) for j in range(len(sq_squares))),\n",
        "                          cat=\"Binary\")\n",
        "    d1 = LpVariable.dicts(\"d1\",\n",
        "                          (j for j in range(len(sq_squares))),\n",
        "                          cat=\"Continuous\")\n",
        "    d2 = LpVariable.dicts(\"d2\",\n",
        "                          (j for j in range(len(sq_squares))),\n",
        "                          cat=\"Continuous\")\n",
        "    d = LpVariable.dicts(\"d\",\n",
        "                          (j for j in range(len(sq_squares))),\n",
        "                          cat=\"Continuous\")\n",
        "    s = LpVariable.dicts(\"s\",\n",
        "                          (j for j in range(len(sq_squares))),\n",
        "                         lowBound=0,\n",
        "                          cat=\"Continuous\")\n",
        "\n",
        "    for i in range(len(n_likes)):\n",
        "        problem += lpSum([xs[(i,j)] for j in range(len(sq_squares))]) == 1\n",
        "\n",
        "    for j in range(len(sq_squares)):\n",
        "        problem += lpSum([xs[(i,j)] * n_likes[i] for i in range(len(n_likes))]) == s[j]\n",
        "        problem += lpSum([xs[(i,j)] for i in range(len(n_likes))]) >= 1\n",
        "        problem += sq_squares[j] - s[j] == d1[j]\n",
        "        problem += s[j] - sq_squares[j] == d2[j]\n",
        "        problem += d[j] >= d1[j]\n",
        "        problem += d[j] >= d2[j]\n",
        "\n",
        "    problem += lpSum([d[j] for j in range(len(sq_squares))])\n",
        "\n",
        "    return problem"
      ],
      "metadata": {
        "id": "fQ9Dl0-S6MRK"
      },
      "execution_count": 12,
      "outputs": []
    },
    {
      "cell_type": "code",
      "source": [
        "def recursive_refinement(ph_likes, initial_quads, max_iterations=10):\n",
        "    quads = initial_quads\n",
        "    q_ph_inds = [np.where(deploy[:, i] == 1)[0] for i in range(len(quads))]\n",
        "\n",
        "    iteration = 0\n",
        "    while iteration < max_iterations:\n",
        "        split_q_ind = 0\n",
        "        while split_q_ind < len(quads) and len(q_ph_inds[split_q_ind]) == 1:\n",
        "            split_q_ind += 1\n",
        "        if split_q_ind == len(quads):\n",
        "            break\n",
        "\n",
        "        app_quads = quads[split_q_ind].split([6, 4, 8][len(q_ph_inds[split_q_ind]) % 3])\n",
        "        app_q_squares = [rect.S() for rect in app_quads]\n",
        "\n",
        "        prob = make_problem(ph_likes[q_ph_inds[split_q_ind]], app_q_squares)\n",
        "        if prob.solve() == 1:\n",
        "            deploy = pulp_to_deploy(prob.variablesDict(), len(q_ph_inds[split_q_ind]), len(app_quads))\n",
        "            app_q_ph_inds = [np.where(deploy[:, i] == 1)[0] for i in range(len(app_quads))]\n",
        "            app_q_ph_inds = [np.array([q_ph_inds[split_q_ind][loc_ind] for loc_ind in a]) for a in app_q_ph_inds]\n",
        "            quads = quads[:split_q_ind] + quads[split_q_ind + 1:] + app_quads\n",
        "            q_ph_inds = q_ph_inds[:split_q_ind] + q_ph_inds[split_q_ind + 1:] + app_q_ph_inds\n",
        "        else:\n",
        "            raise Exception(\"Optimization failed during recursive refinement\")\n",
        "\n",
        "        iteration += 1\n",
        "\n",
        "    return quads, q_ph_inds\n",
        "\n",
        "# Apply recursive refinement to the initial field\n",
        "refined_quads, refined_q_ph_inds = recursive_refinement(ph_likes, initial_field[\"rects\"])"
      ],
      "metadata": {
        "colab": {
          "base_uri": "https://localhost:8080/",
          "height": 176
        },
        "id": "ewWZIkzLkeG1",
        "outputId": "9ec55e39-6903-4185-a365-85e0d91f7d91"
      },
      "execution_count": 22,
      "outputs": [
        {
          "output_type": "error",
          "ename": "NameError",
          "evalue": "name 'initial_field' is not defined",
          "traceback": [
            "\u001b[0;31m---------------------------------------------------------------------------\u001b[0m",
            "\u001b[0;31mNameError\u001b[0m                                 Traceback (most recent call last)",
            "\u001b[0;32m<ipython-input-22-7125177facd1>\u001b[0m in \u001b[0;36m<cell line: 31>\u001b[0;34m()\u001b[0m\n\u001b[1;32m     29\u001b[0m \u001b[0;34m\u001b[0m\u001b[0m\n\u001b[1;32m     30\u001b[0m \u001b[0;31m# Apply recursive refinement to the initial field\u001b[0m\u001b[0;34m\u001b[0m\u001b[0;34m\u001b[0m\u001b[0m\n\u001b[0;32m---> 31\u001b[0;31m \u001b[0mrefined_quads\u001b[0m\u001b[0;34m,\u001b[0m \u001b[0mrefined_q_ph_inds\u001b[0m \u001b[0;34m=\u001b[0m \u001b[0mrecursive_refinement\u001b[0m\u001b[0;34m(\u001b[0m\u001b[0mph_likes\u001b[0m\u001b[0;34m,\u001b[0m \u001b[0minitial_field\u001b[0m\u001b[0;34m[\u001b[0m\u001b[0;34m\"rects\"\u001b[0m\u001b[0;34m]\u001b[0m\u001b[0;34m)\u001b[0m\u001b[0;34m\u001b[0m\u001b[0;34m\u001b[0m\u001b[0m\n\u001b[0m",
            "\u001b[0;31mNameError\u001b[0m: name 'initial_field' is not defined"
          ]
        }
      ]
    },
    {
      "cell_type": "code",
      "source": [
        "def evaluate_collage(n_likes, square):\n",
        "    split_opts = split_options(square)\n",
        "    best_score = float('inf')\n",
        "    best_layout = None\n",
        "\n",
        "    for opt in split_opts:\n",
        "        sq_squares = list(opt.keys())\n",
        "        prob = make_problem(n_likes, sq_squares)\n",
        "        prob.solve()\n",
        "\n",
        "        if LpStatus[prob.status] == 'Optimal':\n",
        "            score = prob.objective.value()\n",
        "            if score < best_score:\n",
        "                best_score = score\n",
        "                best_layout = prob\n",
        "\n",
        "    if best_layout is None:\n",
        "        print(\"No optimal solution found.\")\n",
        "    else:\n",
        "        print(\"Optimal solution found.\")\n",
        "\n",
        "    return best_score, best_layout"
      ],
      "metadata": {
        "id": "e75Ggj1S6QhC"
      },
      "execution_count": 23,
      "outputs": []
    },
    {
      "cell_type": "code",
      "source": [
        "def visualize_collage(n_likes, best_layout, k, best_score):\n",
        "    split_opts = split_options(k)\n",
        "    if not split_opts:\n",
        "        print(f\"No valid split options for k={k}\")\n",
        "        return\n",
        "\n",
        "    squares = split_opts[0]\n",
        "    fig, ax = plt.subplots(1, 1, figsize=(8, 8))\n",
        "\n",
        "    remaining_space = [(0, 0, 1, 1)]\n",
        "    photo_positions = {}\n",
        "\n",
        "    color_map = plt.get_cmap('tab20')\n",
        "\n",
        "    for var in best_layout.variables():\n",
        "        if var.name.startswith('x_') and var.varValue == 1:\n",
        "            name_parts = var.name.replace('x_(', '').replace(')', '').split(',_')\n",
        "            i = int(name_parts[0])\n",
        "            j = int(name_parts[1])\n",
        "\n",
        "            try:\n",
        "                size = list(squares.keys())[j]\n",
        "            except IndexError:\n",
        "                print(f\"IndexError: j={j}, squares={list(squares.keys())}\")\n",
        "                continue\n",
        "\n",
        "            for index, (x, y, w, h) in enumerate(remaining_space):\n",
        "                if w >= size and h >= size:\n",
        "                    photo_positions[i] = (x, y, size)\n",
        "                    remaining_space.pop(index)\n",
        "                    new_spaces = [\n",
        "                        (x + size, y, w - size, h),\n",
        "                        (x, y + size, w, h - size),\n",
        "                        (x + size, y + size, w - size, h - size)\n",
        "                    ]\n",
        "                    for space in new_spaces:\n",
        "                        if space[2] > 0 and space[3] > 0:\n",
        "                            remaining_space.append(space)\n",
        "                    remaining_space = sorted(remaining_space, key=lambda sp: (sp[1], sp[0]))  # Prioritize top-left spaces\n",
        "                    break\n",
        "\n",
        "    print(\"Photo positions:\", photo_positions)\n",
        "\n",
        "    for i, (x, y, size) in photo_positions.items():\n",
        "        rect = plt.Rectangle((x, y), size, size, facecolor=color_map(i / len(n_likes)), edgecolor='black', linewidth=1)\n",
        "        ax.add_patch(rect)\n",
        "        ax.text(x + size / 2, y + size / 2, f\"Photo {i}\\nLikes: {n_likes[i]}\", ha='center', va='center', fontsize=8, color='black')\n",
        "\n",
        "    ax.set_xlim(0, 1)\n",
        "    ax.set_ylim(0, 1)\n",
        "    ax.set_aspect('equal')\n",
        "    ax.grid(True)\n",
        "    plt.gca().invert_yaxis()\n",
        "    plt.title(f\"Best Score: {best_score}\")\n",
        "    plt.show()"
      ],
      "metadata": {
        "id": "DtTFSa9e6Uyq"
      },
      "execution_count": 24,
      "outputs": []
    },
    {
      "cell_type": "code",
      "source": [
        "ph_likes = np.random.randint(1, 100, 7)\n",
        "number_of_photos = 7\n",
        "\n",
        "best_score, best_layout = evaluate_collage(ph_likes, number_of_photos)\n",
        "visualize_collage(ph_likes, best_layout, number_of_photos, best_score)\n",
        "print(f\"Best Score: {best_score}\")"
      ],
      "metadata": {
        "colab": {
          "base_uri": "https://localhost:8080/",
          "height": 751
        },
        "id": "JlcN-o9I6Y28",
        "outputId": "69aa5896-376e-4520-8a41-5266d9216570"
      },
      "execution_count": 40,
      "outputs": [
        {
          "output_type": "stream",
          "name": "stdout",
          "text": [
            "Optimal solution found.\n",
            "Photo positions: {0: (0, 0, 0.5), 1: (0.5, 0, 0.25), 2: (0.5, 0.25, 0.5), 3: (0.75, 0, 0.25), 4: (0.75, 0.25, 0.25), 5: (0, 0.5, 0.5), 6: (0.5, 0.5, 0.5)}\n"
          ]
        },
        {
          "output_type": "display_data",
          "data": {
            "text/plain": [
              "<Figure size 800x800 with 1 Axes>"
            ],
            "image/png": "[encoded data removed]"
          },
          "metadata": {}
        },
        {
          "output_type": "stream",
          "name": "stdout",
          "text": [
            "Best Score: 0.0\n"
          ]
        }
      ]
    }
  ],
  "metadata": {
    "colab": {
      "provenance": [],
      "authorship_tag": "ABX9TyMwHek2T85HTKWYNRzVVJnX",
      "include_colab_link": true
    },
    "kernelspec": {
      "display_name": "Python 3",
      "name": "python3"
    },
    "language_info": {
      "name": "python"
    }
  },
  "nbformat": 4,
  "nbformat_minor": 0
}